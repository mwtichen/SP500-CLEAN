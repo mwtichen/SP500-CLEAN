{
 "cells": [
  {
   "cell_type": "markdown",
   "metadata": {},
   "source": [
    "# Cleaning Stock Market Data Scraped Off the Web"
   ]
  },
  {
   "cell_type": "markdown",
   "metadata": {},
   "source": [
    "In a previous project, I used Beautiful Soup and the Requests library to scape stock market data from the finviz website, then store the data in csv file.\n",
    "\n",
    "Since I'd like to analyze this data, I'll use the Pandas and Numpy libraries to clean the dataset so that all columns are formatted properly. By the end of this project, all numeric variables will have the floating point or integer data types. I'll also fix and create some new indicator variables."
   ]
  },
  {
   "cell_type": "markdown",
   "metadata": {},
   "source": [
    "## Load the Data"
   ]
  },
  {
   "cell_type": "markdown",
   "metadata": {},
   "source": [
    "Before I load the data, I'll import the Pandas and Numpy libraries."
   ]
  },
  {
   "cell_type": "code",
   "execution_count": 1,
   "metadata": {
    "collapsed": true
   },
   "outputs": [],
   "source": [
    "import pandas as pd\n",
    "import numpy as np"
   ]
  },
  {
   "cell_type": "markdown",
   "metadata": {},
   "source": [
    "Next, I'll read the dataset and print the data type for each column."
   ]
  },
  {
   "cell_type": "code",
   "execution_count": 2,
   "metadata": {},
   "outputs": [
    {
     "data": {
      "text/plain": [
       "Index             object\n",
       "P/E               object\n",
       "EPS (ttm)        float64\n",
       "Insider Own       object\n",
       "Shs Outstand      object\n",
       "Perf Week         object\n",
       "Market Cap        object\n",
       "Forward P/E       object\n",
       "EPS next Y        object\n",
       "Insider Trans     object\n",
       "Shs Float         object\n",
       "Perf Month        object\n",
       "Income            object\n",
       "PEG               object\n",
       "EPS next Q        object\n",
       "Inst Own          object\n",
       "Short Float       object\n",
       "Perf Quarter      object\n",
       "Sales             object\n",
       "P/S               object\n",
       "EPS this Y        object\n",
       "Inst Trans        object\n",
       "Short Ratio      float64\n",
       "Perf Half Y       object\n",
       "Book/sh          float64\n",
       "P/B               object\n",
       "EPS next Y.1      object\n",
       "ROA               object\n",
       "Target Price      object\n",
       "Perf Year         object\n",
       "                  ...   \n",
       "Dividend %        object\n",
       "Quick Ratio       object\n",
       "Sales past 5Y     object\n",
       "Gross Margin      object\n",
       "52W Low           object\n",
       "ATR              float64\n",
       "Employees          int64\n",
       "Current Ratio     object\n",
       "Sales Q/Q         object\n",
       "Oper. Margin      object\n",
       "RSI (14)         float64\n",
       "Volatility        object\n",
       "Optionable        object\n",
       "Debt/Eq           object\n",
       "EPS Q/Q           object\n",
       "Profit Margin     object\n",
       "Rel Volume       float64\n",
       "Prev Close       float64\n",
       "Shortable         object\n",
       "LT Debt/Eq        object\n",
       "Earnings          object\n",
       "Payout            object\n",
       "Avg Volume        object\n",
       "Price            float64\n",
       "Recom             object\n",
       "SMA20             object\n",
       "SMA50             object\n",
       "SMA200            object\n",
       "Volume            object\n",
       "Change            object\n",
       "Length: 72, dtype: object"
      ]
     },
     "execution_count": 2,
     "metadata": {},
     "output_type": "execute_result"
    }
   ],
   "source": [
    "sp = pd.read_csv(\"S&P500.csv\",index_col=0) # TICKER SYMBOLS ARE INDEX\n",
    "sp.dtypes"
   ]
  },
  {
   "cell_type": "markdown",
   "metadata": {},
   "source": [
    "Many of the columns, which should be numeric, have dtype = object.\n",
    "\n",
    "Let's look at the first 5 rows to get a better idea of what I need to do."
   ]
  },
  {
   "cell_type": "code",
   "execution_count": 3,
   "metadata": {},
   "outputs": [
    {
     "data": {
      "text/html": [
       "<div>\n",
       "<style>\n",
       "    .dataframe thead tr:only-child th {\n",
       "        text-align: right;\n",
       "    }\n",
       "\n",
       "    .dataframe thead th {\n",
       "        text-align: left;\n",
       "    }\n",
       "\n",
       "    .dataframe tbody tr th {\n",
       "        vertical-align: top;\n",
       "    }\n",
       "</style>\n",
       "<table border=\"1\" class=\"dataframe\">\n",
       "  <thead>\n",
       "    <tr style=\"text-align: right;\">\n",
       "      <th></th>\n",
       "      <th>Index</th>\n",
       "      <th>P/E</th>\n",
       "      <th>EPS (ttm)</th>\n",
       "      <th>Insider Own</th>\n",
       "      <th>Shs Outstand</th>\n",
       "      <th>Perf Week</th>\n",
       "      <th>Market Cap</th>\n",
       "      <th>Forward P/E</th>\n",
       "      <th>EPS next Y</th>\n",
       "      <th>Insider Trans</th>\n",
       "      <th>...</th>\n",
       "      <th>Earnings</th>\n",
       "      <th>Payout</th>\n",
       "      <th>Avg Volume</th>\n",
       "      <th>Price</th>\n",
       "      <th>Recom</th>\n",
       "      <th>SMA20</th>\n",
       "      <th>SMA50</th>\n",
       "      <th>SMA200</th>\n",
       "      <th>Volume</th>\n",
       "      <th>Change</th>\n",
       "    </tr>\n",
       "  </thead>\n",
       "  <tbody>\n",
       "    <tr>\n",
       "      <th>A</th>\n",
       "      <td>S&amp;P; 500</td>\n",
       "      <td>24.42</td>\n",
       "      <td>2.68</td>\n",
       "      <td>0.30%</td>\n",
       "      <td>321.92M</td>\n",
       "      <td>-1.53%</td>\n",
       "      <td>21.07B</td>\n",
       "      <td>19.41</td>\n",
       "      <td>3.37</td>\n",
       "      <td>-5.17%</td>\n",
       "      <td>...</td>\n",
       "      <td>Nov 19 AMC</td>\n",
       "      <td>58.10%</td>\n",
       "      <td>2.85M</td>\n",
       "      <td>65.46</td>\n",
       "      <td>1.80</td>\n",
       "      <td>-3.54%</td>\n",
       "      <td>-2.13%</td>\n",
       "      <td>-1.22%</td>\n",
       "      <td>3,119,738</td>\n",
       "      <td>3.46%</td>\n",
       "    </tr>\n",
       "    <tr>\n",
       "      <th>AA</th>\n",
       "      <td>S&amp;P; 500</td>\n",
       "      <td>977.24</td>\n",
       "      <td>0.03</td>\n",
       "      <td>0.10%</td>\n",
       "      <td>195.69M</td>\n",
       "      <td>4.34%</td>\n",
       "      <td>5.55B</td>\n",
       "      <td>8.01</td>\n",
       "      <td>3.54</td>\n",
       "      <td>0.00%</td>\n",
       "      <td>...</td>\n",
       "      <td>Jan 16 AMC</td>\n",
       "      <td>-</td>\n",
       "      <td>3.69M</td>\n",
       "      <td>28.34</td>\n",
       "      <td>2.00</td>\n",
       "      <td>2.06%</td>\n",
       "      <td>-10.95%</td>\n",
       "      <td>-33.25%</td>\n",
       "      <td>5,652,866</td>\n",
       "      <td>8.00%</td>\n",
       "    </tr>\n",
       "    <tr>\n",
       "      <th>AAL</th>\n",
       "      <td>S&amp;P; 500</td>\n",
       "      <td>6.94</td>\n",
       "      <td>4.62</td>\n",
       "      <td>0.20%</td>\n",
       "      <td>477.01M</td>\n",
       "      <td>0.00%</td>\n",
       "      <td>15.28B</td>\n",
       "      <td>5.63</td>\n",
       "      <td>5.69</td>\n",
       "      <td>4.38%</td>\n",
       "      <td>...</td>\n",
       "      <td>Jan 24 BMO</td>\n",
       "      <td>13.80%</td>\n",
       "      <td>10.05M</td>\n",
       "      <td>32.04</td>\n",
       "      <td>2.00</td>\n",
       "      <td>-2.25%</td>\n",
       "      <td>-7.81%</td>\n",
       "      <td>-19.46%</td>\n",
       "      <td>9,344,567</td>\n",
       "      <td>6.59%</td>\n",
       "    </tr>\n",
       "    <tr>\n",
       "      <th>AAP</th>\n",
       "      <td>S&amp;P; 500</td>\n",
       "      <td>34.34</td>\n",
       "      <td>4.63</td>\n",
       "      <td>0.10%</td>\n",
       "      <td>74.11M</td>\n",
       "      <td>2.66%</td>\n",
       "      <td>11.77B</td>\n",
       "      <td>19.50</td>\n",
       "      <td>8.14</td>\n",
       "      <td>0.27%</td>\n",
       "      <td>...</td>\n",
       "      <td>Feb 12 BMO</td>\n",
       "      <td>3.20%</td>\n",
       "      <td>1.19M</td>\n",
       "      <td>158.81</td>\n",
       "      <td>2.30</td>\n",
       "      <td>-1.36%</td>\n",
       "      <td>-5.01%</td>\n",
       "      <td>8.71%</td>\n",
       "      <td>1,423,037</td>\n",
       "      <td>-2.48%</td>\n",
       "    </tr>\n",
       "    <tr>\n",
       "      <th>AAPL</th>\n",
       "      <td>DJIA S&amp;P500;</td>\n",
       "      <td>12.21</td>\n",
       "      <td>12.15</td>\n",
       "      <td>0.07%</td>\n",
       "      <td>4.87B</td>\n",
       "      <td>-5.05%</td>\n",
       "      <td>722.24B</td>\n",
       "      <td>10.13</td>\n",
       "      <td>14.64</td>\n",
       "      <td>-14.91%</td>\n",
       "      <td>...</td>\n",
       "      <td>Jan 31 AMC</td>\n",
       "      <td>22.70%</td>\n",
       "      <td>43.57M</td>\n",
       "      <td>148.26</td>\n",
       "      <td>2.10</td>\n",
       "      <td>-8.38%</td>\n",
       "      <td>-19.21%</td>\n",
       "      <td>-23.19%</td>\n",
       "      <td>57,275,863</td>\n",
       "      <td>4.27%</td>\n",
       "    </tr>\n",
       "  </tbody>\n",
       "</table>\n",
       "<p>5 rows × 72 columns</p>\n",
       "</div>"
      ],
      "text/plain": [
       "             Index     P/E  EPS (ttm) Insider Own Shs Outstand Perf Week  \\\n",
       "A         S&P; 500   24.42       2.68       0.30%      321.92M    -1.53%   \n",
       "AA        S&P; 500  977.24       0.03       0.10%      195.69M     4.34%   \n",
       "AAL       S&P; 500    6.94       4.62       0.20%      477.01M     0.00%   \n",
       "AAP       S&P; 500   34.34       4.63       0.10%       74.11M     2.66%   \n",
       "AAPL  DJIA S&P500;   12.21      12.15       0.07%        4.87B    -5.05%   \n",
       "\n",
       "     Market Cap Forward P/E EPS next Y Insider Trans   ...      Earnings  \\\n",
       "A        21.07B       19.41       3.37        -5.17%   ...    Nov 19 AMC   \n",
       "AA        5.55B        8.01       3.54         0.00%   ...    Jan 16 AMC   \n",
       "AAL      15.28B        5.63       5.69         4.38%   ...    Jan 24 BMO   \n",
       "AAP      11.77B       19.50       8.14         0.27%   ...    Feb 12 BMO   \n",
       "AAPL    722.24B       10.13      14.64       -14.91%   ...    Jan 31 AMC   \n",
       "\n",
       "      Payout Avg Volume   Price Recom   SMA20    SMA50   SMA200      Volume  \\\n",
       "A     58.10%      2.85M   65.46  1.80  -3.54%   -2.13%   -1.22%   3,119,738   \n",
       "AA         -      3.69M   28.34  2.00   2.06%  -10.95%  -33.25%   5,652,866   \n",
       "AAL   13.80%     10.05M   32.04  2.00  -2.25%   -7.81%  -19.46%   9,344,567   \n",
       "AAP    3.20%      1.19M  158.81  2.30  -1.36%   -5.01%    8.71%   1,423,037   \n",
       "AAPL  22.70%     43.57M  148.26  2.10  -8.38%  -19.21%  -23.19%  57,275,863   \n",
       "\n",
       "      Change  \n",
       "A      3.46%  \n",
       "AA     8.00%  \n",
       "AAL    6.59%  \n",
       "AAP   -2.48%  \n",
       "AAPL   4.27%  \n",
       "\n",
       "[5 rows x 72 columns]"
      ]
     },
     "execution_count": 3,
     "metadata": {},
     "output_type": "execute_result"
    }
   ],
   "source": [
    "sp.head()"
   ]
  },
  {
   "cell_type": "markdown",
   "metadata": {},
   "source": [
    "## Clean the Data"
   ]
  },
  {
   "cell_type": "markdown",
   "metadata": {},
   "source": [
    "In no particular order, here are the problems I'm seeing:\n",
    "\n",
    "* Percentages have a percent symbol.\n",
    "* Very large numbers have a denomination symbol, e.g. B for billion.\n",
    "* The Earnings column has text at the end of each date.\n",
    "* The Volatility column contains 2 columns of information.\n",
    "* The Volume column has commas in it.\n",
    "* The Optionable and Shortable columns take on the values \"Yes\" or \"No\", rather than 1 or 0.\n",
    "* Missing values are indicated with a \"-\" symbol.\n",
    "\n",
    "In the next sections, I'll fix all of these issues.\n",
    "\n",
    "To start, I'm going to make a copy of the original dataset."
   ]
  },
  {
   "cell_type": "code",
   "execution_count": 4,
   "metadata": {
    "collapsed": true
   },
   "outputs": [],
   "source": [
    "clean_sp = sp.copy()"
   ]
  },
  {
   "cell_type": "markdown",
   "metadata": {},
   "source": [
    "### Remove the Percent Signs"
   ]
  },
  {
   "cell_type": "markdown",
   "metadata": {},
   "source": [
    "To remove the percent sign from columns with percentages, I'm going to use the apply method. With the apply method, I'll apply an anonymous function to each column with percentage symbols. You can read more about the apply method [here](https://pandas.pydata.org/pandas-docs/stable/generated/pandas.DataFrame.apply.html)."
   ]
  },
  {
   "cell_type": "code",
   "execution_count": 5,
   "metadata": {
    "collapsed": true
   },
   "outputs": [],
   "source": [
    "# remove percent symbol\n",
    "percent_columns = ['Insider Own','Perf Week',\n",
    "                   'Insider Trans','Perf Month',\n",
    "                   'Inst Own','Short Float','Perf Quarter',\n",
    "                   'EPS this Y','Inst Trans','Perf Half Y',\n",
    "                   'EPS next Y.1','ROA','Perf Year',\n",
    "                   'EPS next 5Y','ROE','Perf YTD',\n",
    "                   'EPS past 5Y','ROI','52W High','Dividend %',\n",
    "                   'Sales past 5Y','Gross Margin',\n",
    "                   '52W Low','Sales Q/Q','Oper. Margin',\n",
    "                   'Volatility','EPS Q/Q','Profit Margin',\n",
    "                   'Payout','SMA20','SMA50','SMA200',\n",
    "                   'Change']\n",
    "\n",
    "clean_sp[percent_columns] = sp[percent_columns].apply(lambda x: x.str.replace('%',''))"
   ]
  },
  {
   "cell_type": "markdown",
   "metadata": {},
   "source": [
    "### Remove the Denomination Symbols"
   ]
  },
  {
   "cell_type": "markdown",
   "metadata": {},
   "source": [
    "Removing the denomination symbols won't be as easy. My solution is to create a function to handle the conversion, then apply it element-wise, using the applymap method. Thus unlike the apply method, the applymap method applies a function to each cell of the data frame. You can read more about the applymap method [here](https://pandas.pydata.org/pandas-docs/stable/generated/pandas.DataFrame.applymap.html)."
   ]
  },
  {
   "cell_type": "code",
   "execution_count": 6,
   "metadata": {
    "collapsed": true
   },
   "outputs": [],
   "source": [
    "denomination_columns = ['Shs Outstand','Market Cap','Shs Float','Income',\n",
    "                           'Sales','Avg Volume']\n",
    "\n",
    "def actual_number(string):\n",
    "    if string == '-':\n",
    "        return np.NaN\n",
    "    denomination = string[-1]\n",
    "    string = string[0:len(string)-1]\n",
    "    string = float(string)\n",
    "    if denomination == 'B':\n",
    "        string = string * 1000000000\n",
    "    elif denomination == 'M':\n",
    "        string = string * 1000000\n",
    "    elif denomination == 'K':\n",
    "        string = string * 1000\n",
    "    return string\n",
    "    \n",
    "\n",
    "clean_sp[denomination_columns] = sp[denomination_columns].applymap(actual_number)"
   ]
  },
  {
   "cell_type": "markdown",
   "metadata": {},
   "source": [
    "### Remove Commas"
   ]
  },
  {
   "cell_type": "markdown",
   "metadata": {},
   "source": [
    "To remove the commas from the Volume column, I'll use the str.replace method. Feel free to read more about it [here](https://pandas.pydata.org/pandas-docs/stable/generated/pandas.Series.str.replace.html)."
   ]
  },
  {
   "cell_type": "code",
   "execution_count": 7,
   "metadata": {
    "collapsed": true
   },
   "outputs": [],
   "source": [
    "clean_sp['Volume'] = sp['Volume'].str.replace(',','')"
   ]
  },
  {
   "cell_type": "markdown",
   "metadata": {},
   "source": [
    "### Removing a Redundant Column"
   ]
  },
  {
   "cell_type": "markdown",
   "metadata": {},
   "source": [
    "Since there's already a 52 Week High and 52 Week Low, I'm thinking that a 52 Week Range, which is the difference between the 2 columns, is a little redundant. If I really need a 52 Week Range, I can always calculate, but for now, I'll drop the column using the drop method. You can read more about the drop method [here](https://pandas.pydata.org/pandas-docs/stable/generated/pandas.DataFrame.drop.html)."
   ]
  },
  {
   "cell_type": "code",
   "execution_count": 8,
   "metadata": {
    "collapsed": true
   },
   "outputs": [],
   "source": [
    "clean_sp.drop(['52W Range'],axis=1,inplace=True)"
   ]
  },
  {
   "cell_type": "markdown",
   "metadata": {},
   "source": [
    "### Fixing the Volatility Column"
   ]
  },
  {
   "cell_type": "markdown",
   "metadata": {},
   "source": [
    "After reading the finviz screener [help menu](https://finviz.com/help/screener.ashx), I found that the Volatility column really contains two measures, the average daily high range, and the average daily low range. I'll create 2 new columns for these measures, by splitting the Volatility column with the str.split method, then drop the original column from the dataset. You can read more about the str.split method [here](https://pandas.pydata.org/pandas-docs/stable/generated/pandas.Series.str.split.html)."
   ]
  },
  {
   "cell_type": "code",
   "execution_count": 9,
   "metadata": {
    "collapsed": true
   },
   "outputs": [],
   "source": [
    "volatility = clean_sp['Volatility'].str.split(expand=True)\n",
    "clean_sp['avg_daily_high_range'] = volatility.iloc[:,0]\n",
    "clean_sp['avg_daily_low_range'] = volatility.iloc[:,1]\n",
    "clean_sp.drop(['Volatility'],axis=1,inplace=True)"
   ]
  },
  {
   "cell_type": "markdown",
   "metadata": {},
   "source": [
    "In case I need to return to my list of percent columns, I'll remove Volatility, and add the 2 other columns."
   ]
  },
  {
   "cell_type": "code",
   "execution_count": 10,
   "metadata": {
    "collapsed": true
   },
   "outputs": [],
   "source": [
    "percent_columns.remove('Volatility')\n",
    "percent_columns.append('avg_daily_high_range')\n",
    "percent_columns.append('avg_daily_low_range')"
   ]
  },
  {
   "cell_type": "markdown",
   "metadata": {},
   "source": [
    "### Fixing the Earnings Column"
   ]
  },
  {
   "cell_type": "markdown",
   "metadata": {},
   "source": [
    "The earnings column has the symbol BMO or AMC appended at the end. BMO means the earnings are released before the market opens. AMC means the earnings are released after the market closes. Using the str.contains and astype methods, I'll create indicator variables for both scenarios. You can read more about the str.contains method [here](https://pandas.pydata.org/pandas-docs/stable/generated/pandas.Series.str.contains.html) and the astype method [here](https://pandas.pydata.org/pandas-docs/version/0.18/generated/pandas.Series.astype.html)."
   ]
  },
  {
   "cell_type": "code",
   "execution_count": 11,
   "metadata": {
    "collapsed": true
   },
   "outputs": [],
   "source": [
    "#convert earnings before market open to an indicator\n",
    "clean_sp['Earnings_BMO'] = sp['Earnings'].str.contains('BMO').astype('int')\n",
    "#convert earnings after market close to an indicator\n",
    "clean_sp['Earnings_AMC'] = sp['Earnings'].str.contains('AMC').astype('int')"
   ]
  },
  {
   "cell_type": "markdown",
   "metadata": {},
   "source": [
    "With these indicators created, I'll use the str.replace, to_datetime and apply methods to convert the Earnings columns to a date with the year 2019. You can read more about str.replace method [here](https://pandas.pydata.org/pandas-docs/stable/generated/pandas.Series.str.replace.html) and the to_dateime method [here](https://pandas.pydata.org/pandas-docs/stable/generated/pandas.to_datetime.html)."
   ]
  },
  {
   "cell_type": "code",
   "execution_count": 12,
   "metadata": {
    "collapsed": true
   },
   "outputs": [],
   "source": [
    "clean_sp['Earnings'] = sp['Earnings'].str.replace('BMO','').str.replace('AMC','')\n",
    "clean_sp['Earnings'] = clean_sp['Earnings'].str.replace(' ','')\n",
    "clean_sp['Earnings'] = pd.to_datetime(clean_sp['Earnings'],format = '%b%d')\n",
    "clean_sp['Earnings'] = clean_sp['Earnings'].apply(lambda x: x.replace(year=2019))"
   ]
  },
  {
   "cell_type": "markdown",
   "metadata": {},
   "source": [
    "### Fixing the Optionable and Shortable Columns"
   ]
  },
  {
   "cell_type": "markdown",
   "metadata": {},
   "source": [
    "I'd prefer to have a column taking on the values 0 or 1, rather than 'No' or 'Yes'."
   ]
  },
  {
   "cell_type": "code",
   "execution_count": 13,
   "metadata": {
    "collapsed": true
   },
   "outputs": [],
   "source": [
    "# change optional to an indicator\n",
    "sp['Optionable'].value_counts()\n",
    "clean_sp['Optionable'] = (sp['Optionable'] == 'Yes').astype('int')\n",
    "\n",
    "# change shortable to an indicator\n",
    "sp['Shortable'].value_counts()\n",
    "clean_sp['Shortable'] = (sp[\"Shortable\"] == 'Yes').astype('int')"
   ]
  },
  {
   "cell_type": "markdown",
   "metadata": {},
   "source": [
    "### Creating a DJIA Column"
   ]
  },
  {
   "cell_type": "markdown",
   "metadata": {},
   "source": [
    "Since a few S&P 500 stocks are members of the Dow Jones Industrial Average (DJIA), I'll create an indicator for DJIA membership."
   ]
  },
  {
   "cell_type": "code",
   "execution_count": 14,
   "metadata": {
    "collapsed": true
   },
   "outputs": [],
   "source": [
    "# make an indicator for Dow membership\n",
    "sp['Index'].value_counts()\n",
    "clean_sp['DJIA'] = sp['Index'].str.contains('DJIA').astype('int')\n",
    "clean_sp.drop([\"Index\"],axis=1,inplace=True)"
   ]
  },
  {
   "cell_type": "markdown",
   "metadata": {},
   "source": [
    "### Replacing '-' Signs with NaNs"
   ]
  },
  {
   "cell_type": "markdown",
   "metadata": {},
   "source": [
    "The string columns with missing data have a \"-\" sign. I'll convert these to Na's by creating a custom function and applying it to each data-element with the applymap method."
   ]
  },
  {
   "cell_type": "code",
   "execution_count": 15,
   "metadata": {
    "collapsed": true
   },
   "outputs": [],
   "source": [
    "string_columns = clean_sp.select_dtypes(include=['object']).columns.tolist()\n",
    "\n",
    "def replace_minus(string):\n",
    "    if string == '-':\n",
    "        return np.NaN\n",
    "    else:\n",
    "        return float(string)\n",
    "    \n",
    "clean_sp.loc[:,string_columns] = clean_sp.loc[:,string_columns].applymap(replace_minus)"
   ]
  },
  {
   "cell_type": "markdown",
   "metadata": {},
   "source": [
    "Now, every cell is numeric. There is just 1 cleaning step for me to do."
   ]
  },
  {
   "cell_type": "markdown",
   "metadata": {},
   "source": [
    "### Converting Percentages to Numbers"
   ]
  },
  {
   "cell_type": "markdown",
   "metadata": {},
   "source": [
    "Every column is numeric, but the percentages aren't scaled correctly. I'll divide all percentages by 100, so it's clear that they are fractions now."
   ]
  },
  {
   "cell_type": "code",
   "execution_count": 16,
   "metadata": {
    "collapsed": true
   },
   "outputs": [],
   "source": [
    "clean_sp[percent_columns] = clean_sp[percent_columns] / 100"
   ]
  },
  {
   "cell_type": "markdown",
   "metadata": {},
   "source": [
    "## Conclusion"
   ]
  },
  {
   "cell_type": "markdown",
   "metadata": {},
   "source": [
    "The dataset has been cleaned, more or less. Take a look."
   ]
  },
  {
   "cell_type": "code",
   "execution_count": 17,
   "metadata": {},
   "outputs": [
    {
     "data": {
      "text/html": [
       "<div>\n",
       "<style>\n",
       "    .dataframe thead tr:only-child th {\n",
       "        text-align: right;\n",
       "    }\n",
       "\n",
       "    .dataframe thead th {\n",
       "        text-align: left;\n",
       "    }\n",
       "\n",
       "    .dataframe tbody tr th {\n",
       "        vertical-align: top;\n",
       "    }\n",
       "</style>\n",
       "<table border=\"1\" class=\"dataframe\">\n",
       "  <thead>\n",
       "    <tr style=\"text-align: right;\">\n",
       "      <th></th>\n",
       "      <th>P/E</th>\n",
       "      <th>EPS (ttm)</th>\n",
       "      <th>Insider Own</th>\n",
       "      <th>Shs Outstand</th>\n",
       "      <th>Perf Week</th>\n",
       "      <th>Market Cap</th>\n",
       "      <th>Forward P/E</th>\n",
       "      <th>EPS next Y</th>\n",
       "      <th>Insider Trans</th>\n",
       "      <th>Shs Float</th>\n",
       "      <th>...</th>\n",
       "      <th>SMA20</th>\n",
       "      <th>SMA50</th>\n",
       "      <th>SMA200</th>\n",
       "      <th>Volume</th>\n",
       "      <th>Change</th>\n",
       "      <th>avg_daily_high_range</th>\n",
       "      <th>avg_daily_low_range</th>\n",
       "      <th>Earnings_BMO</th>\n",
       "      <th>Earnings_AMC</th>\n",
       "      <th>DJIA</th>\n",
       "    </tr>\n",
       "  </thead>\n",
       "  <tbody>\n",
       "    <tr>\n",
       "      <th>A</th>\n",
       "      <td>24.42</td>\n",
       "      <td>2.68</td>\n",
       "      <td>0.0030</td>\n",
       "      <td>3.219200e+08</td>\n",
       "      <td>-0.0153</td>\n",
       "      <td>2.107000e+10</td>\n",
       "      <td>19.41</td>\n",
       "      <td>3.37</td>\n",
       "      <td>-0.0517</td>\n",
       "      <td>3.178900e+08</td>\n",
       "      <td>...</td>\n",
       "      <td>-0.0354</td>\n",
       "      <td>-0.0213</td>\n",
       "      <td>-0.0122</td>\n",
       "      <td>3119738.0</td>\n",
       "      <td>0.0346</td>\n",
       "      <td>0.0296</td>\n",
       "      <td>0.0314</td>\n",
       "      <td>0</td>\n",
       "      <td>1</td>\n",
       "      <td>0</td>\n",
       "    </tr>\n",
       "    <tr>\n",
       "      <th>AA</th>\n",
       "      <td>977.24</td>\n",
       "      <td>0.03</td>\n",
       "      <td>0.0010</td>\n",
       "      <td>1.956900e+08</td>\n",
       "      <td>0.0434</td>\n",
       "      <td>5.550000e+09</td>\n",
       "      <td>8.01</td>\n",
       "      <td>3.54</td>\n",
       "      <td>0.0000</td>\n",
       "      <td>1.859900e+08</td>\n",
       "      <td>...</td>\n",
       "      <td>0.0206</td>\n",
       "      <td>-0.1095</td>\n",
       "      <td>-0.3325</td>\n",
       "      <td>5652866.0</td>\n",
       "      <td>0.0800</td>\n",
       "      <td>0.0522</td>\n",
       "      <td>0.0511</td>\n",
       "      <td>0</td>\n",
       "      <td>1</td>\n",
       "      <td>0</td>\n",
       "    </tr>\n",
       "    <tr>\n",
       "      <th>AAL</th>\n",
       "      <td>6.94</td>\n",
       "      <td>4.62</td>\n",
       "      <td>0.0020</td>\n",
       "      <td>4.770100e+08</td>\n",
       "      <td>0.0000</td>\n",
       "      <td>1.528000e+10</td>\n",
       "      <td>5.63</td>\n",
       "      <td>5.69</td>\n",
       "      <td>0.0438</td>\n",
       "      <td>4.575900e+08</td>\n",
       "      <td>...</td>\n",
       "      <td>-0.0225</td>\n",
       "      <td>-0.0781</td>\n",
       "      <td>-0.1946</td>\n",
       "      <td>9344567.0</td>\n",
       "      <td>0.0659</td>\n",
       "      <td>0.0554</td>\n",
       "      <td>0.0530</td>\n",
       "      <td>1</td>\n",
       "      <td>0</td>\n",
       "      <td>0</td>\n",
       "    </tr>\n",
       "    <tr>\n",
       "      <th>AAP</th>\n",
       "      <td>34.34</td>\n",
       "      <td>4.63</td>\n",
       "      <td>0.0010</td>\n",
       "      <td>7.411000e+07</td>\n",
       "      <td>0.0266</td>\n",
       "      <td>1.177000e+10</td>\n",
       "      <td>19.50</td>\n",
       "      <td>8.14</td>\n",
       "      <td>0.0027</td>\n",
       "      <td>7.268000e+07</td>\n",
       "      <td>...</td>\n",
       "      <td>-0.0136</td>\n",
       "      <td>-0.0501</td>\n",
       "      <td>0.0871</td>\n",
       "      <td>1423037.0</td>\n",
       "      <td>-0.0248</td>\n",
       "      <td>0.0318</td>\n",
       "      <td>0.0320</td>\n",
       "      <td>1</td>\n",
       "      <td>0</td>\n",
       "      <td>0</td>\n",
       "    </tr>\n",
       "    <tr>\n",
       "      <th>AAPL</th>\n",
       "      <td>12.21</td>\n",
       "      <td>12.15</td>\n",
       "      <td>0.0007</td>\n",
       "      <td>4.870000e+09</td>\n",
       "      <td>-0.0505</td>\n",
       "      <td>7.222400e+11</td>\n",
       "      <td>10.13</td>\n",
       "      <td>14.64</td>\n",
       "      <td>-0.1491</td>\n",
       "      <td>4.740000e+09</td>\n",
       "      <td>...</td>\n",
       "      <td>-0.0838</td>\n",
       "      <td>-0.1921</td>\n",
       "      <td>-0.2319</td>\n",
       "      <td>57275863.0</td>\n",
       "      <td>0.0427</td>\n",
       "      <td>0.0267</td>\n",
       "      <td>0.0341</td>\n",
       "      <td>0</td>\n",
       "      <td>1</td>\n",
       "      <td>1</td>\n",
       "    </tr>\n",
       "  </tbody>\n",
       "</table>\n",
       "<p>5 rows × 74 columns</p>\n",
       "</div>"
      ],
      "text/plain": [
       "         P/E  EPS (ttm)  Insider Own  Shs Outstand  Perf Week    Market Cap  \\\n",
       "A      24.42       2.68       0.0030  3.219200e+08    -0.0153  2.107000e+10   \n",
       "AA    977.24       0.03       0.0010  1.956900e+08     0.0434  5.550000e+09   \n",
       "AAL     6.94       4.62       0.0020  4.770100e+08     0.0000  1.528000e+10   \n",
       "AAP    34.34       4.63       0.0010  7.411000e+07     0.0266  1.177000e+10   \n",
       "AAPL   12.21      12.15       0.0007  4.870000e+09    -0.0505  7.222400e+11   \n",
       "\n",
       "      Forward P/E  EPS next Y  Insider Trans     Shs Float  ...    SMA20  \\\n",
       "A           19.41        3.37        -0.0517  3.178900e+08  ...  -0.0354   \n",
       "AA           8.01        3.54         0.0000  1.859900e+08  ...   0.0206   \n",
       "AAL          5.63        5.69         0.0438  4.575900e+08  ...  -0.0225   \n",
       "AAP         19.50        8.14         0.0027  7.268000e+07  ...  -0.0136   \n",
       "AAPL        10.13       14.64        -0.1491  4.740000e+09  ...  -0.0838   \n",
       "\n",
       "       SMA50  SMA200      Volume  Change  avg_daily_high_range  \\\n",
       "A    -0.0213 -0.0122   3119738.0  0.0346                0.0296   \n",
       "AA   -0.1095 -0.3325   5652866.0  0.0800                0.0522   \n",
       "AAL  -0.0781 -0.1946   9344567.0  0.0659                0.0554   \n",
       "AAP  -0.0501  0.0871   1423037.0 -0.0248                0.0318   \n",
       "AAPL -0.1921 -0.2319  57275863.0  0.0427                0.0267   \n",
       "\n",
       "      avg_daily_low_range  Earnings_BMO  Earnings_AMC  DJIA  \n",
       "A                  0.0314             0             1     0  \n",
       "AA                 0.0511             0             1     0  \n",
       "AAL                0.0530             1             0     0  \n",
       "AAP                0.0320             1             0     0  \n",
       "AAPL               0.0341             0             1     1  \n",
       "\n",
       "[5 rows x 74 columns]"
      ]
     },
     "execution_count": 17,
     "metadata": {},
     "output_type": "execute_result"
    }
   ],
   "source": [
    "clean_sp.head()"
   ]
  },
  {
   "cell_type": "markdown",
   "metadata": {},
   "source": [
    "With this project done, I'll store the cleaned up dataset as a .csv for later use."
   ]
  },
  {
   "cell_type": "code",
   "execution_count": 18,
   "metadata": {
    "collapsed": true
   },
   "outputs": [],
   "source": [
    "clean_sp.to_csv(\"clean_sp500.csv\",index=True)"
   ]
  },
  {
   "cell_type": "markdown",
   "metadata": {
    "collapsed": true
   },
   "source": [
    "In the next project, I plan on doing some exploratory analysis.\n",
    "\n",
    "I hope you like the project. Thanks for reading."
   ]
  },
  {
   "cell_type": "code",
   "execution_count": null,
   "metadata": {
    "collapsed": true
   },
   "outputs": [],
   "source": []
  }
 ],
 "metadata": {
  "kernelspec": {
   "display_name": "Python 3",
   "language": "python",
   "name": "python3"
  },
  "language_info": {
   "codemirror_mode": {
    "name": "ipython",
    "version": 3
   },
   "file_extension": ".py",
   "mimetype": "text/x-python",
   "name": "python",
   "nbconvert_exporter": "python",
   "pygments_lexer": "ipython3",
   "version": "3.6.1"
  }
 },
 "nbformat": 4,
 "nbformat_minor": 2
}
